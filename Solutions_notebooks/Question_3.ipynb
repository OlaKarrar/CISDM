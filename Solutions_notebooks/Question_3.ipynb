{
  "nbformat": 4,
  "nbformat_minor": 0,
  "metadata": {
    "colab": {
      "provenance": []
    },
    "kernelspec": {
      "name": "python3",
      "display_name": "Python 3"
    },
    "language_info": {
      "name": "python"
    }
  },
  "cells": [
    {
      "cell_type": "markdown",
      "source": [
        "# Question (3):\n",
        "\n",
        "Compute Monte Carlo approximations to the integral:\n",
        "\n",
        "$$\\int_0^1 \\int_0^1 \\int_0^1 \\frac{xy}{\\sqrt{x^2+y^2+z^2}} dx dy dz$$\n",
        "\n",
        "Implement some variance reduction technique and compare the results. Compare also\n",
        "to the true numerical value $0.2332969032$."
      ],
      "metadata": {
        "id": "Z1Wo9mpBN7LB"
      }
    },
    {
      "cell_type": "markdown",
      "source": [
        "## Solution:\n",
        "the problem can be reformulated to:\n",
        "\n",
        "$$\\int_0^1 \\int_0^1 \\int_0^1 \\frac{xy}{\\sqrt{x^2+y^2+z^2}} dx dy dz=\\int_0^1 \\int_0^1 \\int_0^1h(x,y,z)p(x,y,z)dx dy dz=E(h(x,y,z))$$\n",
        "\n",
        "where:\n",
        "\n",
        "* $ p(x,y,z)=1$\n",
        "* $h(x,y,z)=\\frac{xy}{\\sqrt{x^2+y^2+z^2}}$\n",
        "\n",
        "\n",
        "\n"
      ],
      "metadata": {
        "id": "pWC6gl6xSxTK"
      }
    },
    {
      "cell_type": "code",
      "execution_count": null,
      "metadata": {
        "id": "bCbN7iyZTiYz"
      },
      "outputs": [],
      "source": [
        "import random\n",
        "import numpy as np\n",
        "from matplotlib import pyplot as plt\n",
        "from scipy.stats import cauchy\n",
        "from scipy.stats import norm\n",
        "from scipy.stats import t\n",
        "from scipy.stats import uniform"
      ]
    },
    {
      "cell_type": "markdown",
      "source": [
        "### (a) Monte Carlo approximations to the integral:"
      ],
      "metadata": {
        "id": "K5c0FUfIVAtT"
      }
    },
    {
      "cell_type": "code",
      "source": [
        "# Simple Monte Carlo (MC)\n",
        "N=10000\n",
        "x=np.random.uniform(0,1,N)\n",
        "y=np.random.uniform(0,1,N)\n",
        "z=np.random.uniform(0,1,N)\n",
        "h_MC= (x*y)/np.sqrt(x**2+y**2+z**2)\n",
        "\n",
        "np.mean(h_MC),np.std(h_MC)"
      ],
      "metadata": {
        "colab": {
          "base_uri": "https://localhost:8080/"
        },
        "id": "sK8TWby2OHSy",
        "outputId": "9c5c5faa-ab7d-4808-9eb5-b946e95e086c"
      },
      "execution_count": null,
      "outputs": [
        {
          "output_type": "execute_result",
          "data": {
            "text/plain": [
              "(0.23471131593918368, 0.16770178532207378)"
            ]
          },
          "metadata": {},
          "execution_count": 3
        }
      ]
    },
    {
      "cell_type": "markdown",
      "source": [
        "### (b) Monte Carlo with antithetical variance approximations to the integral:"
      ],
      "metadata": {
        "id": "Lehao6iAVNuj"
      }
    },
    {
      "cell_type": "code",
      "source": [
        "# Monte Carlo with Antithetical variance method (MCAV)\n",
        "\n",
        "N=10000\n",
        "x=np.random.uniform(0,1,int(N/2))\n",
        "y=np.random.uniform(0,1,int(N/2))\n",
        "z=np.random.uniform(0,1,int(N/2))\n",
        "x_corr=1-x\n",
        "y_corr=1-y\n",
        "z_corr=1-z\n",
        "h=(x*y)/np.sqrt(x**2+y**2+z**2)\n",
        "h_corr=(x_corr*y_corr)/np.sqrt(x_corr**2+y_corr**2+z_corr**2)\n",
        "h_MCAV= np.hstack([h,h_corr])\n",
        "\n",
        "np.mean(h_MCAV),np.std(h_MCAV)"
      ],
      "metadata": {
        "colab": {
          "base_uri": "https://localhost:8080/"
        },
        "id": "xz86yvFyQxZK",
        "outputId": "c506b55e-6b1c-45f1-9dda-fa4843afd2ca"
      },
      "execution_count": null,
      "outputs": [
        {
          "output_type": "execute_result",
          "data": {
            "text/plain": [
              "(0.23231856354680444, 0.16712736808369685)"
            ]
          },
          "metadata": {},
          "execution_count": 4
        }
      ]
    },
    {
      "cell_type": "code",
      "source": [
        "np.std(h_MC)>np.std(h_MCAV)"
      ],
      "metadata": {
        "colab": {
          "base_uri": "https://localhost:8080/"
        },
        "id": "tnks2tptY1yS",
        "outputId": "f2ad4176-910d-4676-d299-53bd30db2623"
      },
      "execution_count": null,
      "outputs": [
        {
          "output_type": "execute_result",
          "data": {
            "text/plain": [
              "True"
            ]
          },
          "metadata": {},
          "execution_count": 5
        }
      ]
    },
    {
      "cell_type": "markdown",
      "source": [
        "### (c) Comparison between Monte Carlo and Monte Carlo with antithetical variance approximations:"
      ],
      "metadata": {
        "id": "AnhHotTsVWa-"
      }
    },
    {
      "cell_type": "code",
      "source": [
        "# Generate sampling distribution of MC and MCAV estimates\n",
        "import random\n",
        "import numpy\n",
        "from matplotlib import pyplot\n",
        "\n",
        "N=10000\n",
        "h_MC=np.zeros(N)\n",
        "h_MCAV=np.zeros(N)\n",
        "\n",
        "for n in range(N):\n",
        "  x=np.random.uniform(0,1,int(N/2))\n",
        "  y=np.random.uniform(0,1,int(N/2))\n",
        "  z=np.random.uniform(0,1,int(N/2))\n",
        "  x_corr=1-x\n",
        "  y_corr=1-y\n",
        "  z_corr=1-z\n",
        "  h=(x*y)/np.sqrt(x**2+y**2+z**2)\n",
        "  h_corr=(x_corr*y_corr)/np.sqrt(x_corr**2+y_corr**2+z_corr**2)\n",
        "  h_MCAV[n]= np.mean(np.hstack([h,h_corr]))\n",
        "\n",
        "for n in range(n):\n",
        "  x=np.random.uniform(0,1,N)\n",
        "  y=np.random.uniform(0,1,N)\n",
        "  z=np.random.uniform(0,1,N)\n",
        "  h_MC[n]= np.mean((x*y)/np.sqrt(x**2+y**2+z**2))"
      ],
      "metadata": {
        "id": "IZ1AQKzEZNp8"
      },
      "execution_count": null,
      "outputs": []
    },
    {
      "cell_type": "code",
      "source": [
        "# Compare between the sampling distribution of MC and MCAV methods\n",
        "\n",
        "max_std=np.round(np.std(h_MC)*3,4)\n",
        "\n",
        "bins = numpy.linspace( 0.233-max_std,0.233+max_std, 50)\n",
        "\n",
        "plt.hist(h_MC, bins, alpha=0.7, label='Monte Carlo',density=True, color='#431492',edgecolor = \"white\")\n",
        "plt.hist(h_MCAV, bins, alpha=0.6, label='Antithetic variates',density=True, color='orange',edgecolor = \"white\")\n",
        "plt.axvline(0.2332969032, color='Red', linestyle='dashed', linewidth=1, label='True mean value')\n",
        "plt.xlabel('Estimated mean')\n",
        "plt.ylabel('Sampling distribution')\n",
        "plt.legend(loc='upper right')\n",
        "plt.show()\n"
      ],
      "metadata": {
        "colab": {
          "base_uri": "https://localhost:8080/",
          "height": 449
        },
        "id": "6v8-kyNYZ7ET",
        "outputId": "50105337-e7f6-4ca7-c452-cb1c19fd0568"
      },
      "execution_count": null,
      "outputs": [
        {
          "output_type": "display_data",
          "data": {
            "text/plain": [
              "<Figure size 640x480 with 1 Axes>"
            ],
            "image/png": "[encoded data removed]"
          },
          "metadata": {}
        }
      ]
    }
  ]
}